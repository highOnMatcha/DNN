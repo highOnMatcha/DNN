{
 "cells": [
  {
   "cell_type": "markdown",
   "id": "5d108f1b",
   "metadata": {},
   "source": [
    "# Alpaca-GPT4 Dataset Analysis"
   ]
  },
  {
   "cell_type": "code",
   "execution_count": 48,
   "id": "08048dff",
   "metadata": {},
   "outputs": [
    {
     "name": "stdout",
     "output_type": "stream",
     "text": [
      "All set with imports\n"
     ]
    }
   ],
   "source": [
    "import numpy as np\n",
    "import matplotlib.pyplot as plt\n",
    "import seaborn as sns\n",
    "import plotly.express as px\n",
    "import plotly.graph_objects as go\n",
    "from plotly.subplots import make_subplots\n",
    "import sys\n",
    "\n",
    "sys.path.append('../')\n",
    "\n",
    "# Make plots look nice\n",
    "plt.style.use('seaborn-v0_8')\n",
    "sns.set_palette(\"husl\")\n",
    "\n",
    "print(\"All set with imports\")"
   ]
  },
  {
   "cell_type": "code",
   "execution_count": 49,
   "id": "3176d67e",
   "metadata": {},
   "outputs": [
    {
     "name": "stderr",
     "output_type": "stream",
     "text": [
      "\u001b[34m\u001b[1mwandb\u001b[0m: \u001b[33mWARNING\u001b[0m If you're specifying your api key in code, ensure this code is not shared publicly.\n",
      "\u001b[34m\u001b[1mwandb\u001b[0m: \u001b[33mWARNING\u001b[0m Consider setting the WANDB_API_KEY environment variable, or running `wandb login` from the command line.\n",
      "\u001b[34m\u001b[1mwandb\u001b[0m: Appending key for api.wandb.ai to your netrc file: /home/khalil/.netrc\n"
     ]
    },
    {
     "name": "stdout",
     "output_type": "stream",
     "text": [
      "wandb connection working\n"
     ]
    }
   ],
   "source": [
    "import os\n",
    "from dotenv import load_dotenv\n",
    "import wandb\n",
    "\n",
    "load_dotenv()\n",
    "wandb_api_key = os.getenv('WANDB_API_KEY')\n",
    "\n",
    "if wandb_api_key:\n",
    "    wandb.login(key=wandb_api_key)\n",
    "    print(\"wandb connection working\")\n",
    "else:\n",
    "    print(\"No wandb key found - need to fix the .env file\")\n",
    "    print(\"reminder: WANDB_API_KEY=actual_key in .env\")"
   ]
  },
  {
   "cell_type": "code",
   "execution_count": 50,
   "id": "c734fb5c",
   "metadata": {},
   "outputs": [
    {
     "data": {
      "text/html": [
       "Tracking run with wandb version 0.21.0"
      ],
      "text/plain": [
       "<IPython.core.display.HTML object>"
      ]
     },
     "metadata": {},
     "output_type": "display_data"
    },
    {
     "data": {
      "text/html": [
       "Run data is saved locally in <code>/home/khalil/DNN_tmp/llm/notebooks/wandb/run-20250718_220041-def94m22</code>"
      ],
      "text/plain": [
       "<IPython.core.display.HTML object>"
      ]
     },
     "metadata": {},
     "output_type": "display_data"
    },
    {
     "data": {
      "text/html": [
       "Syncing run <strong><a href='https://wandb.ai/tenchishishou-epfl/dialog-model-training/runs/def94m22' target=\"_blank\">data-exploration</a></strong> to <a href='https://wandb.ai/tenchishishou-epfl/dialog-model-training' target=\"_blank\">Weights & Biases</a> (<a href='https://wandb.me/developer-guide' target=\"_blank\">docs</a>)<br>"
      ],
      "text/plain": [
       "<IPython.core.display.HTML object>"
      ]
     },
     "metadata": {},
     "output_type": "display_data"
    },
    {
     "data": {
      "text/html": [
       " View project at <a href='https://wandb.ai/tenchishishou-epfl/dialog-model-training' target=\"_blank\">https://wandb.ai/tenchishishou-epfl/dialog-model-training</a>"
      ],
      "text/plain": [
       "<IPython.core.display.HTML object>"
      ]
     },
     "metadata": {},
     "output_type": "display_data"
    },
    {
     "data": {
      "text/html": [
       " View run at <a href='https://wandb.ai/tenchishishou-epfl/dialog-model-training/runs/def94m22' target=\"_blank\">https://wandb.ai/tenchishishou-epfl/dialog-model-training/runs/def94m22</a>"
      ],
      "text/plain": [
       "<IPython.core.display.HTML object>"
      ]
     },
     "metadata": {},
     "output_type": "display_data"
    },
    {
     "name": "stdout",
     "output_type": "stream",
     "text": [
      "wandb tracking started\n"
     ]
    }
   ],
   "source": [
    "# Starting a wandb run to track this exploration\n",
    "wandb.init(\n",
    "    project=\"dialog-model-training\",\n",
    "    name=\"data-exploration\",\n",
    "    tags=[\"data-analysis\", \"exploration\"]\n",
    ")\n",
    "\n",
    "print(\"wandb tracking started\")"
   ]
  },
  {
   "cell_type": "markdown",
   "id": "4d56fa4a",
   "metadata": {},
   "source": [
    "## Loading the data\n",
    "\n",
    "Test the postgres DB loading setup. Should fallback to file loading if DB isn't available."
   ]
  },
  {
   "cell_type": "code",
   "execution_count": 51,
   "id": "826b85e8",
   "metadata": {},
   "outputs": [
    {
     "name": "stdout",
     "output_type": "stream",
     "text": [
      "DB environment loaded:\n",
      "  DB_PASSWORD=**************\n",
      "  DB_PORT=5432\n",
      "  DB_USER=dnnuser\n",
      "  DB_HOST=100.64.125.5\n"
     ]
    }
   ],
   "source": [
    "# Getting DB env vars loaded properly\n",
    "import os\n",
    "import subprocess\n",
    "\n",
    "def load_env_from_shell_script(script_path):\n",
    "    \"\"\"Custom function to actually load shell env vars into python process\"\"\"\n",
    "    try:\n",
    "        result = subprocess.run(\n",
    "            f'source {script_path} && env',\n",
    "            shell=True,\n",
    "            capture_output=True,\n",
    "            text=True,\n",
    "            executable='/bin/bash'\n",
    "        )\n",
    "        \n",
    "        if result.returncode == 0:\n",
    "            env_vars = {}\n",
    "            for line in result.stdout.split('\\n'):\n",
    "                if '=' in line and not line.startswith('_'):\n",
    "                    key, value = line.split('=', 1)\n",
    "                    env_vars[key] = value\n",
    "                    os.environ[key] = value\n",
    "            \n",
    "            # Show what DB vars got loaded (mask password)\n",
    "            db_vars = {k: v for k, v in env_vars.items() if k.startswith('DB_')}\n",
    "            if db_vars:\n",
    "                print(\"DB environment loaded:\")\n",
    "                for key, value in db_vars.items():\n",
    "                    display_value = value if key != 'DB_PASSWORD' else '*' * len(value)\n",
    "                    print(f\"  {key}={display_value}\")\n",
    "                return True\n",
    "            else:\n",
    "                print(\"No DB vars found in script\")\n",
    "                return False\n",
    "        else:\n",
    "            print(f\"Script error: {result.stderr}\")\n",
    "            return False\n",
    "            \n",
    "    except Exception as e:\n",
    "        print(f\"Env loading failed: {e}\")\n",
    "        return False\n",
    "\n",
    "# Load the environment\n",
    "script_loaded = load_env_from_shell_script('../../set_db_env.sh')\n",
    "if not script_loaded:\n",
    "    print(\"Skipping DB setup - will use file loading instead\")"
   ]
  },
  {
   "cell_type": "code",
   "execution_count": 52,
   "id": "232c34ca",
   "metadata": {},
   "outputs": [
    {
     "name": "stdout",
     "output_type": "stream",
     "text": [
      "DB credentials available, testing connection...\n",
      "Successfully loaded 52002 rows from table 'alpaca_gpt4_dataset'\n",
      "Got data from database\n",
      "\n",
      "Loaded: (52002, 4)\n",
      "Columns: ['instruction', 'input', 'output', 'text']\n",
      "\n",
      "First few rows:\n"
     ]
    },
    {
     "data": {
      "text/html": [
       "<div>\n",
       "<style scoped>\n",
       "    .dataframe tbody tr th:only-of-type {\n",
       "        vertical-align: middle;\n",
       "    }\n",
       "\n",
       "    .dataframe tbody tr th {\n",
       "        vertical-align: top;\n",
       "    }\n",
       "\n",
       "    .dataframe thead th {\n",
       "        text-align: right;\n",
       "    }\n",
       "</style>\n",
       "<table border=\"1\" class=\"dataframe\">\n",
       "  <thead>\n",
       "    <tr style=\"text-align: right;\">\n",
       "      <th></th>\n",
       "      <th>instruction</th>\n",
       "      <th>input</th>\n",
       "      <th>output</th>\n",
       "      <th>text</th>\n",
       "    </tr>\n",
       "  </thead>\n",
       "  <tbody>\n",
       "    <tr>\n",
       "      <th>0</th>\n",
       "      <td>Give three tips for staying healthy.</td>\n",
       "      <td></td>\n",
       "      <td>1. Eat a balanced and nutritious diet: Make su...</td>\n",
       "      <td>Below is an instruction that describes a task....</td>\n",
       "    </tr>\n",
       "    <tr>\n",
       "      <th>1</th>\n",
       "      <td>What are the three primary colors?</td>\n",
       "      <td></td>\n",
       "      <td>The three primary colors are red, blue, and ye...</td>\n",
       "      <td>Below is an instruction that describes a task....</td>\n",
       "    </tr>\n",
       "    <tr>\n",
       "      <th>2</th>\n",
       "      <td>Describe the structure of an atom.</td>\n",
       "      <td></td>\n",
       "      <td>An atom is the basic building block of all mat...</td>\n",
       "      <td>Below is an instruction that describes a task....</td>\n",
       "    </tr>\n",
       "    <tr>\n",
       "      <th>3</th>\n",
       "      <td>How can we reduce air pollution?</td>\n",
       "      <td></td>\n",
       "      <td>There are several ways to reduce air pollution...</td>\n",
       "      <td>Below is an instruction that describes a task....</td>\n",
       "    </tr>\n",
       "    <tr>\n",
       "      <th>4</th>\n",
       "      <td>Describe a time when you had to make a difficu...</td>\n",
       "      <td></td>\n",
       "      <td>As an AI assistant, I do not have my own perso...</td>\n",
       "      <td>Below is an instruction that describes a task....</td>\n",
       "    </tr>\n",
       "  </tbody>\n",
       "</table>\n",
       "</div>"
      ],
      "text/plain": [
       "                                         instruction input  \\\n",
       "0               Give three tips for staying healthy.         \n",
       "1                 What are the three primary colors?         \n",
       "2                 Describe the structure of an atom.         \n",
       "3                   How can we reduce air pollution?         \n",
       "4  Describe a time when you had to make a difficu...         \n",
       "\n",
       "                                              output  \\\n",
       "0  1. Eat a balanced and nutritious diet: Make su...   \n",
       "1  The three primary colors are red, blue, and ye...   \n",
       "2  An atom is the basic building block of all mat...   \n",
       "3  There are several ways to reduce air pollution...   \n",
       "4  As an AI assistant, I do not have my own perso...   \n",
       "\n",
       "                                                text  \n",
       "0  Below is an instruction that describes a task....  \n",
       "1  Below is an instruction that describes a task....  \n",
       "2  Below is an instruction that describes a task....  \n",
       "3  Below is an instruction that describes a task....  \n",
       "4  Below is an instruction that describes a task....  "
      ]
     },
     "execution_count": 52,
     "metadata": {},
     "output_type": "execute_result"
    }
   ],
   "source": [
    "# Trying database first, fallback to files\n",
    "from src.data.loaders import get_database_manager, get_dataset_manager\n",
    "import os\n",
    "\n",
    "dataset_manager = get_dataset_manager()\n",
    "df = None\n",
    "db_available = False\n",
    "\n",
    "try:\n",
    "    if os.getenv('DB_USER') and os.getenv('DB_PASSWORD'):\n",
    "        print(\"DB credentials available, testing connection...\")\n",
    "        db_manager = get_database_manager()\n",
    "        df = db_manager.load_from_database()\n",
    "        db_available = True\n",
    "        \n",
    "        if df is not None and len(df) > 0:\n",
    "            print(\"Got data from database\")\n",
    "        else:\n",
    "            print(\"DB empty or table missing\")\n",
    "            df = None\n",
    "    else:\n",
    "        print(\"No DB credentials - using file loading\")\n",
    "        \n",
    "except Exception as e:\n",
    "    print(f\"DB failed: {e}\")\n",
    "    print(\"Falling back to files...\")\n",
    "\n",
    "# File fallback\n",
    "if df is None or len(df) == 0:\n",
    "    print(\"Loading from file...\")\n",
    "    df = dataset_manager.load_dataset()\n",
    "    \n",
    "    # Try saving to DB if it's available\n",
    "    if db_available:\n",
    "        try:\n",
    "            print(\"Saving to DB for next time...\")\n",
    "            success = db_manager.save_to_database(df)\n",
    "            if success:\n",
    "                print(\"Saved to DB successfully\")\n",
    "            else:\n",
    "                print(\"DB save failed\")\n",
    "        except Exception as e:\n",
    "            print(f\"Couldn't save to DB: {e}\")\n",
    "\n",
    "print(f\"\\nLoaded: {df.shape}\")\n",
    "print(f\"Columns: {list(df.columns)}\")\n",
    "print(\"\\nFirst few rows:\")\n",
    "df.head()"
   ]
  },
  {
   "cell_type": "code",
   "execution_count": 53,
   "id": "6e4208ef",
   "metadata": {},
   "outputs": [
    {
     "name": "stdout",
     "output_type": "stream",
     "text": [
      "Dataset Summary:\n",
      "Shape: (52002, 4)\n",
      "Columns: ['instruction', 'input', 'output', 'text']\n",
      "Memory usage: 106.54 MB\n",
      "\n",
      "Data types:\n",
      "  instruction: object\n",
      "  input: object\n",
      "  output: object\n",
      "  text: object\n",
      "\n",
      "Null values:\n",
      "  instruction: 0\n",
      "  input: 0\n",
      "  output: 0\n",
      "  text: 0\n",
      "\n",
      "First 3 rows:\n",
      "                            instruction input  \\\n",
      "0  Give three tips for staying healthy.         \n",
      "1    What are the three primary colors?         \n",
      "2    Describe the structure of an atom.         \n",
      "\n",
      "                                              output  \\\n",
      "0  1. Eat a balanced and nutritious diet: Make su...   \n",
      "1  The three primary colors are red, blue, and ye...   \n",
      "2  An atom is the basic building block of all mat...   \n",
      "\n",
      "                                                text  \n",
      "0  Below is an instruction that describes a task....  \n",
      "1  Below is an instruction that describes a task....  \n",
      "2  Below is an instruction that describes a task....  \n",
      "\n",
      "Got 52,002 examples\n",
      "Memory: 106.54 MB\n"
     ]
    }
   ],
   "source": [
    "# Quick dataset overview\n",
    "if df is not None:\n",
    "    info = dataset_manager.get_dataset_info(df)\n",
    "    dataset_manager.print_dataset_summary(df)\n",
    "\n",
    "    # Log to wandb for tracking\n",
    "    wandb.log({\n",
    "        \"dataset_size\": len(df),\n",
    "        \"num_columns\": len(df.columns),\n",
    "        \"memory_usage_mb\": info['memory_usage'] / 1024**2\n",
    "    })\n",
    "\n",
    "    print(f\"\\nGot {len(df):,} examples\")\n",
    "    print(f\"Memory: {info['memory_usage'] / 1024**2:.2f} MB\")\n",
    "else:\n",
    "    print(\"No data loaded - something went wrong above\")"
   ]
  },
  {
   "cell_type": "markdown",
   "id": "1cc1738d",
   "metadata": {},
   "source": [
    "## Text length analysis\n",
    "\n",
    "Sequence lengths give hints about memory usage and model architecture."
   ]
  },
  {
   "cell_type": "code",
   "execution_count": 54,
   "id": "0358315f",
   "metadata": {},
   "outputs": [
    {
     "name": "stdout",
     "output_type": "stream",
     "text": [
      "Computing lengths...\n",
      "Length stats:\n",
      "==============================\n",
      "\n",
      "Instructions:\n",
      "count    52002.000000\n",
      "mean        59.778759\n",
      "std         21.193591\n",
      "min          9.000000\n",
      "25%         46.000000\n",
      "50%         57.000000\n",
      "75%         70.000000\n",
      "max        489.000000\n",
      "Name: instruction_length, dtype: float64\n",
      "\n",
      "Outputs:\n",
      "count    52002.000000\n",
      "mean       677.368967\n",
      "std        649.759513\n",
      "min          1.000000\n",
      "25%         99.000000\n",
      "50%        471.000000\n",
      "75%       1140.000000\n",
      "max       4574.000000\n",
      "Name: output_length, dtype: float64\n",
      "\n",
      "Word counts:\n",
      "Avg instruction words: 10.1\n",
      "Avg output words: 109.7\n"
     ]
    }
   ],
   "source": [
    "# Getting basic length stats\n",
    "if df is None:\n",
    "    print(\"No data to analyze\")\n",
    "elif 'instruction' not in df.columns or 'output' not in df.columns:\n",
    "    print(\"Missing required columns\")\n",
    "    print(\"Available:\", list(df.columns))\n",
    "else:\n",
    "    print(\"Computing lengths...\")\n",
    "    \n",
    "    df['instruction_length'] = df['instruction'].str.len()\n",
    "    df['output_length'] = df['output'].str.len()\n",
    "    df['total_length'] = df['instruction_length'] + df['output_length']\n",
    "\n",
    "    # Word counts too\n",
    "    df['instruction_words'] = df['instruction'].str.split().str.len()\n",
    "    df['output_words'] = df['output'].str.split().str.len()\n",
    "\n",
    "    # Check the distributions\n",
    "    print(\"Length stats:\")\n",
    "    print(\"=\" * 30)\n",
    "    print(\"\\nInstructions:\")\n",
    "    print(df['instruction_length'].describe())\n",
    "    print(\"\\nOutputs:\")\n",
    "    print(df['output_length'].describe())\n",
    "    print(\"\\nWord counts:\")\n",
    "    print(f\"Avg instruction words: {df['instruction_words'].mean():.1f}\")\n",
    "    print(f\"Avg output words: {df['output_words'].mean():.1f}\")"
   ]
  },
  {
   "cell_type": "code",
   "execution_count": 55,
   "id": "cee06500",
   "metadata": {},
   "outputs": [
    {
     "data": {
      "image/png": "[encoded data removed]",
      "text/plain": [
       "<Figure size 1500x1000 with 4 Axes>"
      ]
     },
     "metadata": {},
     "output_type": "display_data"
    }
   ],
   "source": [
    "# Plotting length distributions\n",
    "if df is None or 'instruction_length' not in df.columns:\n",
    "    print(\"Can't plot - missing data or columns\")\n",
    "else:\n",
    "    fig, axes = plt.subplots(2, 2, figsize=(15, 10))\n",
    "\n",
    "    # Instruction char lengths\n",
    "    axes[0,0].hist(df['instruction_length'], bins=50, alpha=0.7, color='skyblue')\n",
    "    axes[0,0].set_title('Instruction Length (chars)')\n",
    "    axes[0,0].set_xlabel('Characters')\n",
    "    axes[0,0].set_ylabel('Count')\n",
    "\n",
    "    # Output char lengths\n",
    "    axes[0,1].hist(df['output_length'], bins=50, alpha=0.7, color='lightcoral')\n",
    "    axes[0,1].set_title('Output Length (chars)')\n",
    "    axes[0,1].set_xlabel('Characters')\n",
    "    axes[0,1].set_ylabel('Count')\n",
    "\n",
    "    # Word counts\n",
    "    axes[1,0].hist(df['instruction_words'], bins=30, alpha=0.7, color='lightgreen')\n",
    "    axes[1,0].set_title('Instruction Words')\n",
    "    axes[1,0].set_xlabel('Words')\n",
    "    axes[1,0].set_ylabel('Count')\n",
    "\n",
    "    axes[1,1].hist(df['output_words'], bins=50, alpha=0.7, color='gold')\n",
    "    axes[1,1].set_title('Output Words')\n",
    "    axes[1,1].set_xlabel('Words')\n",
    "    axes[1,1].set_ylabel('Count')\n",
    "\n",
    "    plt.tight_layout()\n",
    "    plt.show()\n",
    "\n",
    "    # Log these for tracking\n",
    "    wandb.log({\n",
    "        \"avg_instruction_length\": df['instruction_length'].mean(),\n",
    "        \"avg_output_length\": df['output_length'].mean(),\n",
    "        \"avg_instruction_words\": df['instruction_words'].mean(),\n",
    "        \"avg_output_words\": df['output_words'].mean()\n",
    "    })"
   ]
  },
  {
   "cell_type": "markdown",
   "id": "a494ff53",
   "metadata": {},
   "source": [
    "## Data quality check\n",
    "\n",
    "Quick sanity check for obvious issues that would mess up training."
   ]
  },
  {
   "cell_type": "code",
   "execution_count": 56,
   "id": "6491163e",
   "metadata": {},
   "outputs": [
    {
     "name": "stdout",
     "output_type": "stream",
     "text": [
      "Quality check:\n",
      "====================\n",
      "instruction           0\n",
      "input                 0\n",
      "output                0\n",
      "text                  0\n",
      "instruction_length    0\n",
      "output_length         0\n",
      "total_length          0\n",
      "instruction_words     0\n",
      "output_words          0\n",
      "dtype: int64\n",
      "\n",
      "Duplicates: 0\n",
      "Empty instructions: 0\n",
      "Empty outputs: 0\n",
      "Too short instructions (<3 words): 0\n",
      "Too long outputs (>500 words): 0\n",
      "\n",
      "Quality score: 1.000\n"
     ]
    }
   ],
   "source": [
    "# Basic quality checks\n",
    "if df is None:\n",
    "    print(\"No data to check\")\n",
    "elif 'instruction' not in df.columns or 'output' not in df.columns:\n",
    "    print(\"Missing key columns\")\n",
    "else:\n",
    "    print(\"Quality check:\")\n",
    "    print(\"=\" * 20)\n",
    "    missing_counts = df.isnull().sum()\n",
    "    print(missing_counts)\n",
    "\n",
    "    duplicate_count = df.duplicated().sum()\n",
    "    print(f\"\\nDuplicates: {duplicate_count}\")\n",
    "\n",
    "    # Empty string check\n",
    "    empty_instructions = (df['instruction'].str.strip() == '').sum()\n",
    "    empty_outputs = (df['output'].str.strip() == '').sum()\n",
    "    print(f\"Empty instructions: {empty_instructions}\")\n",
    "    print(f\"Empty outputs: {empty_outputs}\")\n",
    "\n",
    "    # Check for weird lengths\n",
    "    if 'instruction_words' in df.columns and 'output_words' in df.columns:\n",
    "        very_short_instructions = (df['instruction_words'] < 3).sum()\n",
    "        very_long_outputs = (df['output_words'] > 500).sum()\n",
    "        print(f\"Too short instructions (<3 words): {very_short_instructions}\")\n",
    "        print(f\"Too long outputs (>500 words): {very_long_outputs}\")\n",
    "    else:\n",
    "        very_short_instructions = 0\n",
    "        very_long_outputs = 0\n",
    "        print(\"No word counts available\")\n",
    "\n",
    "    # Overall quality score\n",
    "    quality_metrics = {\n",
    "        \"missing_values\": missing_counts.sum(),\n",
    "        \"duplicate_rows\": duplicate_count,\n",
    "        \"empty_instructions\": empty_instructions,\n",
    "        \"empty_outputs\": empty_outputs,\n",
    "        \"very_short_instructions\": very_short_instructions,\n",
    "        \"very_long_outputs\": very_long_outputs,\n",
    "        \"data_quality_score\": 1 - (missing_counts.sum() + duplicate_count + empty_instructions + empty_outputs) / len(df)\n",
    "    }\n",
    "\n",
    "    wandb.log(quality_metrics)\n",
    "    print(f\"\\nQuality score: {quality_metrics['data_quality_score']:.3f}\")"
   ]
  },
  {
   "cell_type": "markdown",
   "id": "04324f1e",
   "metadata": {},
   "source": [
    "## Sample examples\n",
    "\n",
    "Quick look at actual data to see what we're working with."
   ]
  },
  {
   "cell_type": "code",
   "execution_count": 57,
   "id": "481a3ed3",
   "metadata": {},
   "outputs": [
    {
     "name": "stdout",
     "output_type": "stream",
     "text": [
      "Random examples:\n",
      "========================================\n",
      "\n",
      "Example 1:\n",
      "Instruction: Extract the topic of the given story.\n",
      "Input: James and his family were camping in the lake near their house. They built a tent and enjoyed a campfire and some marshmallows.\n",
      "Output: The topic of the story is camping.\n",
      "Length: 7 → 7 words\n",
      "----------------------------------------\n",
      "\n",
      "Example 2:\n",
      "Instruction: Unscramble the letters and identify the word.\n",
      "Input: kxnao\n",
      "Output: The word is \"axion\".\n",
      "Length: 7 → 4 words\n",
      "----------------------------------------\n",
      "\n",
      "Example 3:\n",
      "Instruction: Grade this student's essay on the Great Gatsby.\n",
      "Input: The Great Gatsby is a timeless classic about people's attitudes towards love, money, and power. It offers an account of the life and times of Jay Gatsby and his friends and lovers, and provides readers with insights into the pursuit of the American Dream, the pitfalls of materialism and the power of relationships. \n",
      "\n",
      "The novel is set in the summer of 1922, when the roaring stock market, extreme wealth, and indulgence are everywhere. Gatsby's striving ambition, which drives the plot of the novel, is a clear example of the \"rags to riches\" myth.\n",
      "\n",
      "Through the novel, Fitzgerald criticizes the issues of social class and upper-class lifestyles and attitudes. He shows how the wealthy are careless and self-indulgent and how their lavish parties are written in the sky with fireworks. Fitzgerald depicts the bleak but true reality that wealth can’t buy people's happiness.\n",
      "Output: The essay provides a good basic overview of the main themes and issues addressed in the Great Gatsby, including the pursuit of the American Dream, the dangers of materialism, and the critical portrayal of the upper class. The writer accurately locates the setting of the novel in the summer of 1922 and focuses on Gatsby's ambition as a driving force of the plot. They discuss Fitzgerald's critical portrayal of the attitudes and lifestyle of the wealthy, and the notion that wealth cannot buy happiness is effectively conveyed. However, the essay could be improved by providing more specific examples and quotes from the text to support the arguments and incorporating a more in-depth analysis of the characters and their motivations. Overall, I would grade this essay as a B.\n",
      "Length: 8 → 128 words\n",
      "----------------------------------------\n"
     ]
    }
   ],
   "source": [
    "# Look at some random examples\n",
    "if df is None or len(df) == 0:\n",
    "    print(\"No data to sample\")\n",
    "else:\n",
    "    print(\"Random examples:\")\n",
    "    print(\"=\" * 40)\n",
    "\n",
    "    sample_size = min(3, len(df))\n",
    "    sample_indices = np.random.choice(len(df), sample_size, replace=False)\n",
    "\n",
    "    for i, idx in enumerate(sample_indices):\n",
    "        row = df.iloc[idx]\n",
    "        print(f\"\\nExample {i+1}:\")\n",
    "        print(f\"Instruction: {row['instruction']}\")\n",
    "        print(f\"Input: {row['input']}\")\n",
    "        print(f\"Output: {row['output']}\")\n",
    "        \n",
    "        if 'instruction_words' in df.columns and 'output_words' in df.columns:\n",
    "            print(f\"Length: {row['instruction_words']} → {row['output_words']} words\")\n",
    "        print(\"-\" * 40)"
   ]
  },
  {
   "cell_type": "code",
   "execution_count": 58,
   "id": "d2503027",
   "metadata": {},
   "outputs": [
    {
     "data": {
      "application/vnd.plotly.v1+json": {
       "config": {
        "plotlyServerURL": "https://plot.ly"
       },
       "data": [
        {
         "hovertemplate": "Instruction Words=%{x}<br>Output Words=%{y}<extra></extra>",
         "legendgroup": "",
         "marker": {
          "color": "#636efa",
          "opacity": 0.6,
          "symbol": "circle"
         },
         "mode": "markers",
         "name": "",
         "orientation": "v",
         "showlegend": false,
         "type": "scatter",
         "x": {
          "bdata": "CQ8KCQcKBwwHCgkKCgsJCwoPCAYNDwQOCAkPCAgJCQoICgYMDAsQDwkICAYNCAgFBggICgoJCQsKEhQHBgoQCiENCgsECAcGEAsIDAsIBAwGBw0JCQcICQoLCAcFFg0GDQgLCwoJDQkIBQkFBwoOCQ8HCgcOCQoFCAcMBQUKDAcHCQUFBgsHCwsFEAoLBAkHCwwJDAoHBQoJBw0LCAULCQcMBA8HDAkKCQQLCQkICQ0NEwcKBwcFCAkQCAwKDAkLBQoICwsKBwcGDA8FCAkFDggFCgoICAkQCggFCgcGBwsICAgOCAcLDgYPBQcMCQwICggLBwsPCwgKCw8KBwgNCAgJBw0ICAwMBwsJBwcMCAwGFQgMCAcHCQoKDAoLBwkJBwgLCgcKCwYKDgcKChIICQcIBA0PCgoGBQ8KDwoGDAwKEgQHCwkOCA8KCAsNBwUFBw4IEwgKCggIDAgGDBAIDQgFCBEfCwkIBQgLDg0JBwsKCxAPCgsEEggVCQoPCwoKDQYKBQkGBAsMBgoFCgoHCAUMDQgNDgwLCgwMDQwMDAoKCQkODgwHCAwHHwsJCQgKDgkECw4KCggHDQkMBwgLBwgKDgwICgcNCgsLCQwKCgUOBAYGEwYFDwcOCg0PCAkJCQwKCAcQDAgHBg0ICgkIBxwNBQQJCwkMCwoMCQkODAsEDggICwcKCAcNBw8MBgsRDAoJCAgLCQgJCgkGCQsFCwgICAkLCgsKCgwIBxEKCAoNBw4KDAgKCggHDw4GCQkJCAYIEAgHCQ8IBgcGDgUGBAwHCAgKBhMJEQoLEQsNBwgKCgsMCAkJCAwFBwsOCAwJBQUOBgQSCAwPCQoKCgkLCgkOCAkIFAYJCwwMEQgJBQUJDAwHDQgJCQUPCQYJCwsJCwgNCwgODQoNBgwLBQoMBwgJCA8JCw0KDAoICggKBgcKBwQKCQgKCgoRDQoICwkEDQoJCwsHBw4EEQwIBwkMBggIDAsKCQoNCRwOBwYICQgIDQoQDA4LDg4QBQ0MBAwNEAoIDQ4MCA0KBgsSCgsICAgOCgoFCwsKCAsKDAoNCgcIDQkLCRANDBAKDAYFDQgOChEJCwkPCQsRCQoFDAwHCAsMBg4GDAYTBw4MDggGDQ0KCQUNBgsJCwgJCQgKCQcKDQoHCAgQCgsFCREMCAkHDwYHCQkHDA0MCAwHDgwMCwgFCQQMCQoMCRANCwgQCg0HChETDgoPCRESFAkHCAoKDA4KBwsIBQwKCgcHBwoIBwcQDQoMCgwLCQsJCQ0FDgoNCgsIDAoHCQgMCAgGCw0LBwYKDggKCAoNCQkKEQYQCA8GCQkICQ0OCw==",
          "dtype": "i1"
         },
         "xaxis": "x",
         "y": {
          "bdata": "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",
          "dtype": "i2"
         },
         "yaxis": "y"
        }
       ],
       "layout": {
        "legend": {
         "tracegroupgap": 0
        },
        "template": {
         "data": {
          "bar": [
           {
            "error_x": {
             "color": "#2a3f5f"
            },
            "error_y": {
             "color": "#2a3f5f"
            },
            "marker": {
             "line": {
              "color": "#E5ECF6",
              "width": 0.5
             },
             "pattern": {
              "fillmode": "overlay",
              "size": 10,
              "solidity": 0.2
             }
            },
            "type": "bar"
           }
          ],
          "barpolar": [
           {
            "marker": {
             "line": {
              "color": "#E5ECF6",
              "width": 0.5
             },
             "pattern": {
              "fillmode": "overlay",
              "size": 10,
              "solidity": 0.2
             }
            },
            "type": "barpolar"
           }
          ],
          "carpet": [
           {
            "aaxis": {
             "endlinecolor": "#2a3f5f",
             "gridcolor": "white",
             "linecolor": "white",
             "minorgridcolor": "white",
             "startlinecolor": "#2a3f5f"
            },
            "baxis": {
             "endlinecolor": "#2a3f5f",
             "gridcolor": "white",
             "linecolor": "white",
             "minorgridcolor": "white",
             "startlinecolor": "#2a3f5f"
            },
            "type": "carpet"
           }
          ],
          "choropleth": [
           {
            "colorbar": {
             "outlinewidth": 0,
             "ticks": ""
            },
            "type": "choropleth"
           }
          ],
          "contour": [
           {
            "colorbar": {
             "outlinewidth": 0,
             "ticks": ""
            },
            "colorscale": [
             [
              0,
              "#0d0887"
             ],
             [
              0.1111111111111111,
              "#46039f"
             ],
             [
              0.2222222222222222,
              "#7201a8"
             ],
             [
              0.3333333333333333,
              "#9c179e"
             ],
             [
              0.4444444444444444,
              "#bd3786"
             ],
             [
              0.5555555555555556,
              "#d8576b"
             ],
             [
              0.6666666666666666,
              "#ed7953"
             ],
             [
              0.7777777777777778,
              "#fb9f3a"
             ],
             [
              0.8888888888888888,
              "#fdca26"
             ],
             [
              1,
              "#f0f921"
             ]
            ],
            "type": "contour"
           }
          ],
          "contourcarpet": [
           {
            "colorbar": {
             "outlinewidth": 0,
             "ticks": ""
            },
            "type": "contourcarpet"
           }
          ],
          "heatmap": [
           {
            "colorbar": {
             "outlinewidth": 0,
             "ticks": ""
            },
            "colorscale": [
             [
              0,
              "#0d0887"
             ],
             [
              0.1111111111111111,
              "#46039f"
             ],
             [
              0.2222222222222222,
              "#7201a8"
             ],
             [
              0.3333333333333333,
              "#9c179e"
             ],
             [
              0.4444444444444444,
              "#bd3786"
             ],
             [
              0.5555555555555556,
              "#d8576b"
             ],
             [
              0.6666666666666666,
              "#ed7953"
             ],
             [
              0.7777777777777778,
              "#fb9f3a"
             ],
             [
              0.8888888888888888,
              "#fdca26"
             ],
             [
              1,
              "#f0f921"
             ]
            ],
            "type": "heatmap"
           }
          ],
          "histogram": [
           {
            "marker": {
             "pattern": {
              "fillmode": "overlay",
              "size": 10,
              "solidity": 0.2
             }
            },
            "type": "histogram"
           }
          ],
          "histogram2d": [
           {
            "colorbar": {
             "outlinewidth": 0,
             "ticks": ""
            },
            "colorscale": [
             [
              0,
              "#0d0887"
             ],
             [
              0.1111111111111111,
              "#46039f"
             ],
             [
              0.2222222222222222,
              "#7201a8"
             ],
             [
              0.3333333333333333,
              "#9c179e"
             ],
             [
              0.4444444444444444,
              "#bd3786"
             ],
             [
              0.5555555555555556,
              "#d8576b"
             ],
             [
              0.6666666666666666,
              "#ed7953"
             ],
             [
              0.7777777777777778,
              "#fb9f3a"
             ],
             [
              0.8888888888888888,
              "#fdca26"
             ],
             [
              1,
              "#f0f921"
             ]
            ],
            "type": "histogram2d"
           }
          ],
          "histogram2dcontour": [
           {
            "colorbar": {
             "outlinewidth": 0,
             "ticks": ""
            },
            "colorscale": [
             [
              0,
              "#0d0887"
             ],
             [
              0.1111111111111111,
              "#46039f"
             ],
             [
              0.2222222222222222,
              "#7201a8"
             ],
             [
              0.3333333333333333,
              "#9c179e"
             ],
             [
              0.4444444444444444,
              "#bd3786"
             ],
             [
              0.5555555555555556,
              "#d8576b"
             ],
             [
              0.6666666666666666,
              "#ed7953"
             ],
             [
              0.7777777777777778,
              "#fb9f3a"
             ],
             [
              0.8888888888888888,
              "#fdca26"
             ],
             [
              1,
              "#f0f921"
             ]
            ],
            "type": "histogram2dcontour"
           }
          ],
          "mesh3d": [
           {
            "colorbar": {
             "outlinewidth": 0,
             "ticks": ""
            },
            "type": "mesh3d"
           }
          ],
          "parcoords": [
           {
            "line": {
             "colorbar": {
              "outlinewidth": 0,
              "ticks": ""
             }
            },
            "type": "parcoords"
           }
          ],
          "pie": [
           {
            "automargin": true,
            "type": "pie"
           }
          ],
          "scatter": [
           {
            "fillpattern": {
             "fillmode": "overlay",
             "size": 10,
             "solidity": 0.2
            },
            "type": "scatter"
           }
          ],
          "scatter3d": [
           {
            "line": {
             "colorbar": {
              "outlinewidth": 0,
              "ticks": ""
             }
            },
            "marker": {
             "colorbar": {
              "outlinewidth": 0,
              "ticks": ""
             }
            },
            "type": "scatter3d"
           }
          ],
          "scattercarpet": [
           {
            "marker": {
             "colorbar": {
              "outlinewidth": 0,
              "ticks": ""
             }
            },
            "type": "scattercarpet"
           }
          ],
          "scattergeo": [
           {
            "marker": {
             "colorbar": {
              "outlinewidth": 0,
              "ticks": ""
             }
            },
            "type": "scattergeo"
           }
          ],
          "scattergl": [
           {
            "marker": {
             "colorbar": {
              "outlinewidth": 0,
              "ticks": ""
             }
            },
            "type": "scattergl"
           }
          ],
          "scattermap": [
           {
            "marker": {
             "colorbar": {
              "outlinewidth": 0,
              "ticks": ""
             }
            },
            "type": "scattermap"
           }
          ],
          "scattermapbox": [
           {
            "marker": {
             "colorbar": {
              "outlinewidth": 0,
              "ticks": ""
             }
            },
            "type": "scattermapbox"
           }
          ],
          "scatterpolar": [
           {
            "marker": {
             "colorbar": {
              "outlinewidth": 0,
              "ticks": ""
             }
            },
            "type": "scatterpolar"
           }
          ],
          "scatterpolargl": [
           {
            "marker": {
             "colorbar": {
              "outlinewidth": 0,
              "ticks": ""
             }
            },
            "type": "scatterpolargl"
           }
          ],
          "scatterternary": [
           {
            "marker": {
             "colorbar": {
              "outlinewidth": 0,
              "ticks": ""
             }
            },
            "type": "scatterternary"
           }
          ],
          "surface": [
           {
            "colorbar": {
             "outlinewidth": 0,
             "ticks": ""
            },
            "colorscale": [
             [
              0,
              "#0d0887"
             ],
             [
              0.1111111111111111,
              "#46039f"
             ],
             [
              0.2222222222222222,
              "#7201a8"
             ],
             [
              0.3333333333333333,
              "#9c179e"
             ],
             [
              0.4444444444444444,
              "#bd3786"
             ],
             [
              0.5555555555555556,
              "#d8576b"
             ],
             [
              0.6666666666666666,
              "#ed7953"
             ],
             [
              0.7777777777777778,
              "#fb9f3a"
             ],
             [
              0.8888888888888888,
              "#fdca26"
             ],
             [
              1,
              "#f0f921"
             ]
            ],
            "type": "surface"
           }
          ],
          "table": [
           {
            "cells": {
             "fill": {
              "color": "#EBF0F8"
             },
             "line": {
              "color": "white"
             }
            },
            "header": {
             "fill": {
              "color": "#C8D4E3"
             },
             "line": {
              "color": "white"
             }
            },
            "type": "table"
           }
          ]
         },
         "layout": {
          "annotationdefaults": {
           "arrowcolor": "#2a3f5f",
           "arrowhead": 0,
           "arrowwidth": 1
          },
          "autotypenumbers": "strict",
          "coloraxis": {
           "colorbar": {
            "outlinewidth": 0,
            "ticks": ""
           }
          },
          "colorscale": {
           "diverging": [
            [
             0,
             "#8e0152"
            ],
            [
             0.1,
             "#c51b7d"
            ],
            [
             0.2,
             "#de77ae"
            ],
            [
             0.3,
             "#f1b6da"
            ],
            [
             0.4,
             "#fde0ef"
            ],
            [
             0.5,
             "#f7f7f7"
            ],
            [
             0.6,
             "#e6f5d0"
            ],
            [
             0.7,
             "#b8e186"
            ],
            [
             0.8,
             "#7fbc41"
            ],
            [
             0.9,
             "#4d9221"
            ],
            [
             1,
             "#276419"
            ]
           ],
           "sequential": [
            [
             0,
             "#0d0887"
            ],
            [
             0.1111111111111111,
             "#46039f"
            ],
            [
             0.2222222222222222,
             "#7201a8"
            ],
            [
             0.3333333333333333,
             "#9c179e"
            ],
            [
             0.4444444444444444,
             "#bd3786"
            ],
            [
             0.5555555555555556,
             "#d8576b"
            ],
            [
             0.6666666666666666,
             "#ed7953"
            ],
            [
             0.7777777777777778,
             "#fb9f3a"
            ],
            [
             0.8888888888888888,
             "#fdca26"
            ],
            [
             1,
             "#f0f921"
            ]
           ],
           "sequentialminus": [
            [
             0,
             "#0d0887"
            ],
            [
             0.1111111111111111,
             "#46039f"
            ],
            [
             0.2222222222222222,
             "#7201a8"
            ],
            [
             0.3333333333333333,
             "#9c179e"
            ],
            [
             0.4444444444444444,
             "#bd3786"
            ],
            [
             0.5555555555555556,
             "#d8576b"
            ],
            [
             0.6666666666666666,
             "#ed7953"
            ],
            [
             0.7777777777777778,
             "#fb9f3a"
            ],
            [
             0.8888888888888888,
             "#fdca26"
            ],
            [
             1,
             "#f0f921"
            ]
           ]
          },
          "colorway": [
           "#636efa",
           "#EF553B",
           "#00cc96",
           "#ab63fa",
           "#FFA15A",
           "#19d3f3",
           "#FF6692",
           "#B6E880",
           "#FF97FF",
           "#FECB52"
          ],
          "font": {
           "color": "#2a3f5f"
          },
          "geo": {
           "bgcolor": "white",
           "lakecolor": "white",
           "landcolor": "#E5ECF6",
           "showlakes": true,
           "showland": true,
           "subunitcolor": "white"
          },
          "hoverlabel": {
           "align": "left"
          },
          "hovermode": "closest",
          "mapbox": {
           "style": "light"
          },
          "paper_bgcolor": "white",
          "plot_bgcolor": "#E5ECF6",
          "polar": {
           "angularaxis": {
            "gridcolor": "white",
            "linecolor": "white",
            "ticks": ""
           },
           "bgcolor": "#E5ECF6",
           "radialaxis": {
            "gridcolor": "white",
            "linecolor": "white",
            "ticks": ""
           }
          },
          "scene": {
           "xaxis": {
            "backgroundcolor": "#E5ECF6",
            "gridcolor": "white",
            "gridwidth": 2,
            "linecolor": "white",
            "showbackground": true,
            "ticks": "",
            "zerolinecolor": "white"
           },
           "yaxis": {
            "backgroundcolor": "#E5ECF6",
            "gridcolor": "white",
            "gridwidth": 2,
            "linecolor": "white",
            "showbackground": true,
            "ticks": "",
            "zerolinecolor": "white"
           },
           "zaxis": {
            "backgroundcolor": "#E5ECF6",
            "gridcolor": "white",
            "gridwidth": 2,
            "linecolor": "white",
            "showbackground": true,
            "ticks": "",
            "zerolinecolor": "white"
           }
          },
          "shapedefaults": {
           "line": {
            "color": "#2a3f5f"
           }
          },
          "ternary": {
           "aaxis": {
            "gridcolor": "white",
            "linecolor": "white",
            "ticks": ""
           },
           "baxis": {
            "gridcolor": "white",
            "linecolor": "white",
            "ticks": ""
           },
           "bgcolor": "#E5ECF6",
           "caxis": {
            "gridcolor": "white",
            "linecolor": "white",
            "ticks": ""
           }
          },
          "title": {
           "x": 0.05
          },
          "xaxis": {
           "automargin": true,
           "gridcolor": "white",
           "linecolor": "white",
           "ticks": "",
           "title": {
            "standoff": 15
           },
           "zerolinecolor": "white",
           "zerolinewidth": 2
          },
          "yaxis": {
           "automargin": true,
           "gridcolor": "white",
           "linecolor": "white",
           "ticks": "",
           "title": {
            "standoff": 15
           },
           "zerolinecolor": "white",
           "zerolinewidth": 2
          }
         }
        },
        "title": {
         "text": "Instruction vs Output Length"
        },
        "xaxis": {
         "anchor": "y",
         "domain": [
          0,
          1
         ],
         "title": {
          "text": "Instruction Words"
         }
        },
        "yaxis": {
         "anchor": "x",
         "domain": [
          0,
          1
         ],
         "title": {
          "text": "Output Words"
         }
        }
       }
      }
     },
     "metadata": {},
     "output_type": "display_data"
    },
    {
     "data": {
      "application/vnd.plotly.v1+json": {
       "config": {
        "plotlyServerURL": "https://plot.ly"
       },
       "data": [
        {
         "name": "Instructions",
         "type": "box",
         "xaxis": "x",
         "y": {
          "bdata": "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",
          "dtype": "i1"
         },
         "yaxis": "y"
        },
        {
         "name": "Outputs",
         "type": "box",
         "xaxis": "x2",
         "y": {
          "bdata": "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",
          "dtype": "i2"
         },
         "yaxis": "y2"
        }
       ],
       "layout": {
        "annotations": [
         {
          "font": {
           "size": 16
          },
          "showarrow": false,
          "text": "Instructions",
          "x": 0.225,
          "xanchor": "center",
          "xref": "paper",
          "y": 1,
          "yanchor": "bottom",
          "yref": "paper"
         },
         {
          "font": {
           "size": 16
          },
          "showarrow": false,
          "text": "Outputs",
          "x": 0.775,
          "xanchor": "center",
          "xref": "paper",
          "y": 1,
          "yanchor": "bottom",
          "yref": "paper"
         }
        ],
        "showlegend": false,
        "template": {
         "data": {
          "bar": [
           {
            "error_x": {
             "color": "#2a3f5f"
            },
            "error_y": {
             "color": "#2a3f5f"
            },
            "marker": {
             "line": {
              "color": "#E5ECF6",
              "width": 0.5
             },
             "pattern": {
              "fillmode": "overlay",
              "size": 10,
              "solidity": 0.2
             }
            },
            "type": "bar"
           }
          ],
          "barpolar": [
           {
            "marker": {
             "line": {
              "color": "#E5ECF6",
              "width": 0.5
             },
             "pattern": {
              "fillmode": "overlay",
              "size": 10,
              "solidity": 0.2
             }
            },
            "type": "barpolar"
           }
          ],
          "carpet": [
           {
            "aaxis": {
             "endlinecolor": "#2a3f5f",
             "gridcolor": "white",
             "linecolor": "white",
             "minorgridcolor": "white",
             "startlinecolor": "#2a3f5f"
            },
            "baxis": {
             "endlinecolor": "#2a3f5f",
             "gridcolor": "white",
             "linecolor": "white",
             "minorgridcolor": "white",
             "startlinecolor": "#2a3f5f"
            },
            "type": "carpet"
           }
          ],
          "choropleth": [
           {
            "colorbar": {
             "outlinewidth": 0,
             "ticks": ""
            },
            "type": "choropleth"
           }
          ],
          "contour": [
           {
            "colorbar": {
             "outlinewidth": 0,
             "ticks": ""
            },
            "colorscale": [
             [
              0,
              "#0d0887"
             ],
             [
              0.1111111111111111,
              "#46039f"
             ],
             [
              0.2222222222222222,
              "#7201a8"
             ],
             [
              0.3333333333333333,
              "#9c179e"
             ],
             [
              0.4444444444444444,
              "#bd3786"
             ],
             [
              0.5555555555555556,
              "#d8576b"
             ],
             [
              0.6666666666666666,
              "#ed7953"
             ],
             [
              0.7777777777777778,
              "#fb9f3a"
             ],
             [
              0.8888888888888888,
              "#fdca26"
             ],
             [
              1,
              "#f0f921"
             ]
            ],
            "type": "contour"
           }
          ],
          "contourcarpet": [
           {
            "colorbar": {
             "outlinewidth": 0,
             "ticks": ""
            },
            "type": "contourcarpet"
           }
          ],
          "heatmap": [
           {
            "colorbar": {
             "outlinewidth": 0,
             "ticks": ""
            },
            "colorscale": [
             [
              0,
              "#0d0887"
             ],
             [
              0.1111111111111111,
              "#46039f"
             ],
             [
              0.2222222222222222,
              "#7201a8"
             ],
             [
              0.3333333333333333,
              "#9c179e"
             ],
             [
              0.4444444444444444,
              "#bd3786"
             ],
             [
              0.5555555555555556,
              "#d8576b"
             ],
             [
              0.6666666666666666,
              "#ed7953"
             ],
             [
              0.7777777777777778,
              "#fb9f3a"
             ],
             [
              0.8888888888888888,
              "#fdca26"
             ],
             [
              1,
              "#f0f921"
             ]
            ],
            "type": "heatmap"
           }
          ],
          "histogram": [
           {
            "marker": {
             "pattern": {
              "fillmode": "overlay",
              "size": 10,
              "solidity": 0.2
             }
            },
            "type": "histogram"
           }
          ],
          "histogram2d": [
           {
            "colorbar": {
             "outlinewidth": 0,
             "ticks": ""
            },
            "colorscale": [
             [
              0,
              "#0d0887"
             ],
             [
              0.1111111111111111,
              "#46039f"
             ],
             [
              0.2222222222222222,
              "#7201a8"
             ],
             [
              0.3333333333333333,
              "#9c179e"
             ],
             [
              0.4444444444444444,
              "#bd3786"
             ],
             [
              0.5555555555555556,
              "#d8576b"
             ],
             [
              0.6666666666666666,
              "#ed7953"
             ],
             [
              0.7777777777777778,
              "#fb9f3a"
             ],
             [
              0.8888888888888888,
              "#fdca26"
             ],
             [
              1,
              "#f0f921"
             ]
            ],
            "type": "histogram2d"
           }
          ],
          "histogram2dcontour": [
           {
            "colorbar": {
             "outlinewidth": 0,
             "ticks": ""
            },
            "colorscale": [
             [
              0,
              "#0d0887"
             ],
             [
              0.1111111111111111,
              "#46039f"
             ],
             [
              0.2222222222222222,
              "#7201a8"
             ],
             [
              0.3333333333333333,
              "#9c179e"
             ],
             [
              0.4444444444444444,
              "#bd3786"
             ],
             [
              0.5555555555555556,
              "#d8576b"
             ],
             [
              0.6666666666666666,
              "#ed7953"
             ],
             [
              0.7777777777777778,
              "#fb9f3a"
             ],
             [
              0.8888888888888888,
              "#fdca26"
             ],
             [
              1,
              "#f0f921"
             ]
            ],
            "type": "histogram2dcontour"
           }
          ],
          "mesh3d": [
           {
            "colorbar": {
             "outlinewidth": 0,
             "ticks": ""
            },
            "type": "mesh3d"
           }
          ],
          "parcoords": [
           {
            "line": {
             "colorbar": {
              "outlinewidth": 0,
              "ticks": ""
             }
            },
            "type": "parcoords"
           }
          ],
          "pie": [
           {
            "automargin": true,
            "type": "pie"
           }
          ],
          "scatter": [
           {
            "fillpattern": {
             "fillmode": "overlay",
             "size": 10,
             "solidity": 0.2
            },
            "type": "scatter"
           }
          ],
          "scatter3d": [
           {
            "line": {
             "colorbar": {
              "outlinewidth": 0,
              "ticks": ""
             }
            },
            "marker": {
             "colorbar": {
              "outlinewidth": 0,
              "ticks": ""
             }
            },
            "type": "scatter3d"
           }
          ],
          "scattercarpet": [
           {
            "marker": {
             "colorbar": {
              "outlinewidth": 0,
              "ticks": ""
             }
            },
            "type": "scattercarpet"
           }
          ],
          "scattergeo": [
           {
            "marker": {
             "colorbar": {
              "outlinewidth": 0,
              "ticks": ""
             }
            },
            "type": "scattergeo"
           }
          ],
          "scattergl": [
           {
            "marker": {
             "colorbar": {
              "outlinewidth": 0,
              "ticks": ""
             }
            },
            "type": "scattergl"
           }
          ],
          "scattermap": [
           {
            "marker": {
             "colorbar": {
              "outlinewidth": 0,
              "ticks": ""
             }
            },
            "type": "scattermap"
           }
          ],
          "scattermapbox": [
           {
            "marker": {
             "colorbar": {
              "outlinewidth": 0,
              "ticks": ""
             }
            },
            "type": "scattermapbox"
           }
          ],
          "scatterpolar": [
           {
            "marker": {
             "colorbar": {
              "outlinewidth": 0,
              "ticks": ""
             }
            },
            "type": "scatterpolar"
           }
          ],
          "scatterpolargl": [
           {
            "marker": {
             "colorbar": {
              "outlinewidth": 0,
              "ticks": ""
             }
            },
            "type": "scatterpolargl"
           }
          ],
          "scatterternary": [
           {
            "marker": {
             "colorbar": {
              "outlinewidth": 0,
              "ticks": ""
             }
            },
            "type": "scatterternary"
           }
          ],
          "surface": [
           {
            "colorbar": {
             "outlinewidth": 0,
             "ticks": ""
            },
            "colorscale": [
             [
              0,
              "#0d0887"
             ],
             [
              0.1111111111111111,
              "#46039f"
             ],
             [
              0.2222222222222222,
              "#7201a8"
             ],
             [
              0.3333333333333333,
              "#9c179e"
             ],
             [
              0.4444444444444444,
              "#bd3786"
             ],
             [
              0.5555555555555556,
              "#d8576b"
             ],
             [
              0.6666666666666666,
              "#ed7953"
             ],
             [
              0.7777777777777778,
              "#fb9f3a"
             ],
             [
              0.8888888888888888,
              "#fdca26"
             ],
             [
              1,
              "#f0f921"
             ]
            ],
            "type": "surface"
           }
          ],
          "table": [
           {
            "cells": {
             "fill": {
              "color": "#EBF0F8"
             },
             "line": {
              "color": "white"
             }
            },
            "header": {
             "fill": {
              "color": "#C8D4E3"
             },
             "line": {
              "color": "white"
             }
            },
            "type": "table"
           }
          ]
         },
         "layout": {
          "annotationdefaults": {
           "arrowcolor": "#2a3f5f",
           "arrowhead": 0,
           "arrowwidth": 1
          },
          "autotypenumbers": "strict",
          "coloraxis": {
           "colorbar": {
            "outlinewidth": 0,
            "ticks": ""
           }
          },
          "colorscale": {
           "diverging": [
            [
             0,
             "#8e0152"
            ],
            [
             0.1,
             "#c51b7d"
            ],
            [
             0.2,
             "#de77ae"
            ],
            [
             0.3,
             "#f1b6da"
            ],
            [
             0.4,
             "#fde0ef"
            ],
            [
             0.5,
             "#f7f7f7"
            ],
            [
             0.6,
             "#e6f5d0"
            ],
            [
             0.7,
             "#b8e186"
            ],
            [
             0.8,
             "#7fbc41"
            ],
            [
             0.9,
             "#4d9221"
            ],
            [
             1,
             "#276419"
            ]
           ],
           "sequential": [
            [
             0,
             "#0d0887"
            ],
            [
             0.1111111111111111,
             "#46039f"
            ],
            [
             0.2222222222222222,
             "#7201a8"
            ],
            [
             0.3333333333333333,
             "#9c179e"
            ],
            [
             0.4444444444444444,
             "#bd3786"
            ],
            [
             0.5555555555555556,
             "#d8576b"
            ],
            [
             0.6666666666666666,
             "#ed7953"
            ],
            [
             0.7777777777777778,
             "#fb9f3a"
            ],
            [
             0.8888888888888888,
             "#fdca26"
            ],
            [
             1,
             "#f0f921"
            ]
           ],
           "sequentialminus": [
            [
             0,
             "#0d0887"
            ],
            [
             0.1111111111111111,
             "#46039f"
            ],
            [
             0.2222222222222222,
             "#7201a8"
            ],
            [
             0.3333333333333333,
             "#9c179e"
            ],
            [
             0.4444444444444444,
             "#bd3786"
            ],
            [
             0.5555555555555556,
             "#d8576b"
            ],
            [
             0.6666666666666666,
             "#ed7953"
            ],
            [
             0.7777777777777778,
             "#fb9f3a"
            ],
            [
             0.8888888888888888,
             "#fdca26"
            ],
            [
             1,
             "#f0f921"
            ]
           ]
          },
          "colorway": [
           "#636efa",
           "#EF553B",
           "#00cc96",
           "#ab63fa",
           "#FFA15A",
           "#19d3f3",
           "#FF6692",
           "#B6E880",
           "#FF97FF",
           "#FECB52"
          ],
          "font": {
           "color": "#2a3f5f"
          },
          "geo": {
           "bgcolor": "white",
           "lakecolor": "white",
           "landcolor": "#E5ECF6",
           "showlakes": true,
           "showland": true,
           "subunitcolor": "white"
          },
          "hoverlabel": {
           "align": "left"
          },
          "hovermode": "closest",
          "mapbox": {
           "style": "light"
          },
          "paper_bgcolor": "white",
          "plot_bgcolor": "#E5ECF6",
          "polar": {
           "angularaxis": {
            "gridcolor": "white",
            "linecolor": "white",
            "ticks": ""
           },
           "bgcolor": "#E5ECF6",
           "radialaxis": {
            "gridcolor": "white",
            "linecolor": "white",
            "ticks": ""
           }
          },
          "scene": {
           "xaxis": {
            "backgroundcolor": "#E5ECF6",
            "gridcolor": "white",
            "gridwidth": 2,
            "linecolor": "white",
            "showbackground": true,
            "ticks": "",
            "zerolinecolor": "white"
           },
           "yaxis": {
            "backgroundcolor": "#E5ECF6",
            "gridcolor": "white",
            "gridwidth": 2,
            "linecolor": "white",
            "showbackground": true,
            "ticks": "",
            "zerolinecolor": "white"
           },
           "zaxis": {
            "backgroundcolor": "#E5ECF6",
            "gridcolor": "white",
            "gridwidth": 2,
            "linecolor": "white",
            "showbackground": true,
            "ticks": "",
            "zerolinecolor": "white"
           }
          },
          "shapedefaults": {
           "line": {
            "color": "#2a3f5f"
           }
          },
          "ternary": {
           "aaxis": {
            "gridcolor": "white",
            "linecolor": "white",
            "ticks": ""
           },
           "baxis": {
            "gridcolor": "white",
            "linecolor": "white",
            "ticks": ""
           },
           "bgcolor": "#E5ECF6",
           "caxis": {
            "gridcolor": "white",
            "linecolor": "white",
            "ticks": ""
           }
          },
          "title": {
           "x": 0.05
          },
          "xaxis": {
           "automargin": true,
           "gridcolor": "white",
           "linecolor": "white",
           "ticks": "",
           "title": {
            "standoff": 15
           },
           "zerolinecolor": "white",
           "zerolinewidth": 2
          },
          "yaxis": {
           "automargin": true,
           "gridcolor": "white",
           "linecolor": "white",
           "ticks": "",
           "title": {
            "standoff": 15
           },
           "zerolinecolor": "white",
           "zerolinewidth": 2
          }
         }
        },
        "title": {
         "text": "Length Distributions"
        },
        "xaxis": {
         "anchor": "y",
         "domain": [
          0,
          0.45
         ]
        },
        "xaxis2": {
         "anchor": "y2",
         "domain": [
          0.55,
          1
         ]
        },
        "yaxis": {
         "anchor": "x",
         "domain": [
          0,
          1
         ]
        },
        "yaxis2": {
         "anchor": "x2",
         "domain": [
          0,
          1
         ]
        }
       }
      }
     },
     "metadata": {},
     "output_type": "display_data"
    }
   ],
   "source": [
    "# Plotly charts to explore the data patterns more interactively.\n",
    "if df is None:\n",
    "    print(\"No data for interactive plots\")\n",
    "elif 'instruction_words' not in df.columns or 'output_words' not in df.columns:\n",
    "    print(\"Need word counts first\")\n",
    "else:\n",
    "    # Scatter plot of instruction vs output lengths\n",
    "    sample_df = df.sample(min(1000, len(df)))\n",
    "    fig = px.scatter(\n",
    "        sample_df,\n",
    "        x='instruction_words',\n",
    "        y='output_words',\n",
    "        title='Instruction vs Output Length',\n",
    "        labels={'instruction_words': 'Instruction Words', 'output_words': 'Output Words'},\n",
    "        opacity=0.6\n",
    "    )\n",
    "    fig.show()\n",
    "\n",
    "    # Box plots for length comparison\n",
    "    fig = make_subplots(\n",
    "        rows=1, cols=2,\n",
    "        subplot_titles=['Instructions', 'Outputs']\n",
    "    )\n",
    "\n",
    "    fig.add_trace(\n",
    "        go.Box(y=df['instruction_words'], name='Instructions'),\n",
    "        row=1, col=1\n",
    "    )\n",
    "\n",
    "    fig.add_trace(\n",
    "        go.Box(y=df['output_words'], name='Outputs'),\n",
    "        row=1, col=2\n",
    "    )\n",
    "\n",
    "    fig.update_layout(title_text=\"Length Distributions\", showlegend=False)\n",
    "    fig.show()"
   ]
  },
  {
   "cell_type": "markdown",
   "id": "a8c0724f",
   "metadata": {},
   "source": [
    "## Notes for implementation\n",
    "\n",
    "52k examples, quality score 1.0 - clean data, minimal duplicates/missing values.\n",
    "\n",
    "The 11x expansion ratio (instruction → response) means encoder-decoder probably works better than decoder-only:\n",
    "- T5-style models handle input→output transformations better with separate attention mechanisms\n",
    "- Encoder can compress the short instruction into good representations that the decoder can expand from\n",
    "- GPT-style models have to \"remember\" the short instruction while generating much longer responses, which is trickier\n",
    "\n",
    "95th percentile at 1930 chars → `max_position_embeddings: 2048` should cover most cases.\n",
    "\n",
    "22% of responses >200 words could hit memory limits, so need:\n",
    "- Gradient checkpointing: trades compute for memory by recomputing activations during backprop instead of storing them. Cuts memory ~50% but slows training ~20%\n",
    "- Dynamic padding: batch similar-length sequences instead of padding everything to max length\n",
    "- fp16: halves memory for activations and gradients\n",
    "\n",
    "Token math: ~4 chars per token (English average), so 184 tokens avg per example. \n",
    "Batch size formula: `available_memory / (184 × model_params × bytes_per_param)`\n",
    "For 16GB GPU with 7B model: batch_size ≈ 4-8 examples.\n",
    "\n",
    "Config to use:\n",
    "```python\n",
    "model_config = {\n",
    "    \"max_position_embeddings\": 2048,\n",
    "    \"max_new_tokens\": 280, \n",
    "    \"temperature\": 0.8,  # balanced creativity vs consistency\n",
    "    \"top_p\": 0.9        # nucleus sampling\n",
    "}\n",
    "\n",
    "training_config = {\n",
    "    \"per_device_batch_size\": 8, \n",
    "    \"gradient_checkpointing\": True,  # essential for memory\n",
    "    \"learning_rate\": 5e-5,           # higher due to clean data\n",
    "    \"num_epochs\": 3,\n",
    "    \"fp16\": True,                    # halves memory usage\n",
    "    \"dataloader_num_workers\": 4      # efficient data loading\n",
    "}\n",
    "```\n",
    "\n",
    "**Training monitoring**: Watch length consistency (coefficient 0.94 shows variability), memory spikes on long sequences, and generation quality across different response lengths."
   ]
  },
  {
   "cell_type": "code",
   "execution_count": 59,
   "id": "de315345",
   "metadata": {},
   "outputs": [
    {
     "data": {
      "text/html": [],
      "text/plain": [
       "<IPython.core.display.HTML object>"
      ]
     },
     "metadata": {},
     "output_type": "display_data"
    },
    {
     "data": {
      "text/html": [
       "<br>    <style><br>        .wandb-row {<br>            display: flex;<br>            flex-direction: row;<br>            flex-wrap: wrap;<br>            justify-content: flex-start;<br>            width: 100%;<br>        }<br>        .wandb-col {<br>            display: flex;<br>            flex-direction: column;<br>            flex-basis: 100%;<br>            flex: 1;<br>            padding: 10px;<br>        }<br>    </style><br><div class=\"wandb-row\"><div class=\"wandb-col\"><h3>Run history:</h3><br/><table class=\"wandb\"><tr><td>avg_instruction_length</td><td>▁</td></tr><tr><td>avg_instruction_words</td><td>▁</td></tr><tr><td>avg_output_length</td><td>▁</td></tr><tr><td>avg_output_words</td><td>▁</td></tr><tr><td>data_quality_score</td><td>▁</td></tr><tr><td>dataset_size</td><td>▁</td></tr><tr><td>duplicate_rows</td><td>▁</td></tr><tr><td>empty_instructions</td><td>▁</td></tr><tr><td>empty_outputs</td><td>▁</td></tr><tr><td>memory_usage_mb</td><td>▁</td></tr><tr><td>missing_values</td><td>▁</td></tr><tr><td>num_columns</td><td>▁</td></tr><tr><td>very_long_outputs</td><td>▁</td></tr><tr><td>very_short_instructions</td><td>▁</td></tr></table><br/></div><div class=\"wandb-col\"><h3>Run summary:</h3><br/><table class=\"wandb\"><tr><td>avg_instruction_length</td><td>59.77876</td></tr><tr><td>avg_instruction_words</td><td>10.06363</td></tr><tr><td>avg_output_length</td><td>677.36897</td></tr><tr><td>avg_output_words</td><td>109.6852</td></tr><tr><td>data_quality_score</td><td>1</td></tr><tr><td>dataset_size</td><td>52002</td></tr><tr><td>duplicate_rows</td><td>0</td></tr><tr><td>empty_instructions</td><td>0</td></tr><tr><td>empty_outputs</td><td>0</td></tr><tr><td>memory_usage_mb</td><td>106.53756</td></tr><tr><td>missing_values</td><td>0</td></tr><tr><td>num_columns</td><td>4</td></tr><tr><td>very_long_outputs</td><td>0</td></tr><tr><td>very_short_instructions</td><td>0</td></tr></table><br/></div></div>"
      ],
      "text/plain": [
       "<IPython.core.display.HTML object>"
      ]
     },
     "metadata": {},
     "output_type": "display_data"
    },
    {
     "data": {
      "text/html": [
       " View run <strong style=\"color:#cdcd00\">data-exploration</strong> at: <a href='https://wandb.ai/tenchishishou-epfl/dialog-model-training/runs/def94m22' target=\"_blank\">https://wandb.ai/tenchishishou-epfl/dialog-model-training/runs/def94m22</a><br> View project at: <a href='https://wandb.ai/tenchishishou-epfl/dialog-model-training' target=\"_blank\">https://wandb.ai/tenchishishou-epfl/dialog-model-training</a><br>Synced 5 W&B file(s), 0 media file(s), 0 artifact file(s) and 0 other file(s)"
      ],
      "text/plain": [
       "<IPython.core.display.HTML object>"
      ]
     },
     "metadata": {},
     "output_type": "display_data"
    },
    {
     "data": {
      "text/html": [
       "Find logs at: <code>./wandb/run-20250718_220041-def94m22/logs</code>"
      ],
      "text/plain": [
       "<IPython.core.display.HTML object>"
      ]
     },
     "metadata": {},
     "output_type": "display_data"
    },
    {
     "name": "stdout",
     "output_type": "stream",
     "text": [
      "Analysis complete\n"
     ]
    }
   ],
   "source": [
    "# Cleanup\n",
    "try:\n",
    "    wandb.finish()\n",
    "    print(\"Analysis complete\")\n",
    "except:\n",
    "    print(\"Analysis complete\")"
   ]
  }
 ],
 "metadata": {
  "kernelspec": {
   "display_name": "venv",
   "language": "python",
   "name": "python3"
  },
  "language_info": {
   "codemirror_mode": {
    "name": "ipython",
    "version": 3
   },
   "file_extension": ".py",
   "mimetype": "text/x-python",
   "name": "python",
   "nbconvert_exporter": "python",
   "pygments_lexer": "ipython3",
   "version": "3.10.12"
  }
 },
 "nbformat": 4,
 "nbformat_minor": 5
}
