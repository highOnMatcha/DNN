{
 "cells": [
  {
   "cell_type": "markdown",
   "id": "5d108f1b",
   "metadata": {},
   "source": [
    "# Data Exploration and Visualization\n",
    "\n",
    "This notebook explores the dialog dataset for training custom chatbot models. We'll analyze data patterns, visualize distributions, and prepare insights for model training.\n",
    "\n",
    "## Objectives:\n",
    "- Connect to data sources (CSV/SQL) \n",
    "- Explore dialog data structure and quality\n",
    "- Visualize text patterns and distributions\n",
    "- Log insights with WandB for experiment tracking"
   ]
  },
  {
   "cell_type": "code",
   "execution_count": null,
   "id": "08048dff",
   "metadata": {},
   "outputs": [],
   "source": [
    "# Import libraries\n",
    "import pandas as pd\n",
    "import numpy as np\n",
    "import matplotlib.pyplot as plt\n",
    "import seaborn as sns\n",
    "import plotly.express as px\n",
    "import plotly.graph_objects as go\n",
    "from plotly.subplots import make_subplots\n",
    "import sys\n",
    "import os\n",
    "\n",
    "# WandB for experiment tracking\n",
    "import wandb\n",
    "\n",
    "# Add src to path for imports\n",
    "sys.path.append('../')\n",
    "from src.data.loaders import get_dataset_manager\n",
    "\n",
    "# Setup plotting\n",
    "plt.style.use('seaborn-v0_8')\n",
    "sns.set_palette(\"husl\")\n",
    "\n",
    "print(\"Libraries imported successfully!\")"
   ]
  },
  {
   "cell_type": "code",
   "execution_count": null,
   "id": "c734fb5c",
   "metadata": {},
   "outputs": [],
   "source": [
    "# Initialize WandB for experiment tracking\n",
    "wandb.init(\n",
    "    project=\"dialog-model-training\",\n",
    "    name=\"data-exploration\",\n",
    "    tags=[\"data-analysis\", \"exploration\"]\n",
    ")\n",
    "\n",
    "print(\"WandB initialized for data exploration tracking\")"
   ]
  },
  {
   "cell_type": "markdown",
   "id": "4d56fa4a",
   "metadata": {},
   "source": [
    "## 1. Data Loading and Basic Information\n",
    "\n",
    "Load the dialog dataset and examine its basic structure."
   ]
  },
  {
   "cell_type": "code",
   "execution_count": null,
   "id": "232c34ca",
   "metadata": {},
   "outputs": [],
   "source": [
    "# Load the dataset\n",
    "dataset_manager = get_dataset_manager()\n",
    "df = dataset_manager.load_dataset()\n",
    "\n",
    "print(f\"Dataset shape: {df.shape}\")\n",
    "print(f\"Columns: {list(df.columns)}\")\n",
    "print(\"\\nFirst few rows:\")\n",
    "df.head()"
   ]
  },
  {
   "cell_type": "code",
   "execution_count": null,
   "id": "6e4208ef",
   "metadata": {},
   "outputs": [],
   "source": [
    "# Get detailed dataset info\n",
    "info = dataset_manager.get_dataset_info(df)\n",
    "dataset_manager.print_dataset_summary(df)\n",
    "\n",
    "# Log basic stats to WandB\n",
    "wandb.log({\n",
    "    \"dataset_size\": len(df),\n",
    "    \"num_columns\": len(df.columns),\n",
    "    \"memory_usage_mb\": info['memory_usage'] / 1024**2\n",
    "})\n",
    "\n",
    "print(f\"\\nDataset successfully loaded with {len(df):,} examples\")\n",
    "print(f\"Memory usage: {info['memory_usage'] / 1024**2:.2f} MB\")"
   ]
  },
  {
   "cell_type": "markdown",
   "id": "1cc1738d",
   "metadata": {},
   "source": [
    "## 2. Text Analysis and Statistics\n",
    "\n",
    "Analyze the length and patterns of instructions and outputs in the dialog data."
   ]
  },
  {
   "cell_type": "code",
   "execution_count": null,
   "id": "0358315f",
   "metadata": {},
   "outputs": [],
   "source": [
    "# Calculate text lengths\n",
    "df['instruction_length'] = df['instruction'].str.len()\n",
    "df['output_length'] = df['output'].str.len()\n",
    "df['total_length'] = df['instruction_length'] + df['output_length']\n",
    "\n",
    "# Calculate word counts\n",
    "df['instruction_words'] = df['instruction'].str.split().str.len()\n",
    "df['output_words'] = df['output'].str.split().str.len()\n",
    "\n",
    "# Basic statistics\n",
    "print(\"Text Length Statistics:\")\n",
    "print(\"=\" * 40)\n",
    "print(\"\\nInstruction lengths:\")\n",
    "print(df['instruction_length'].describe())\n",
    "print(\"\\nOutput lengths:\")\n",
    "print(df['output_length'].describe())\n",
    "print(\"\\nWord counts:\")\n",
    "print(f\"Avg instruction words: {df['instruction_words'].mean():.1f}\")\n",
    "print(f\"Avg output words: {df['output_words'].mean():.1f}\")"
   ]
  },
  {
   "cell_type": "code",
   "execution_count": null,
   "id": "cee06500",
   "metadata": {},
   "outputs": [],
   "source": [
    "# Visualize text length distributions\n",
    "fig, axes = plt.subplots(2, 2, figsize=(15, 10))\n",
    "\n",
    "# Instruction length distribution\n",
    "axes[0,0].hist(df['instruction_length'], bins=50, alpha=0.7, color='skyblue')\n",
    "axes[0,0].set_title('Instruction Length Distribution')\n",
    "axes[0,0].set_xlabel('Characters')\n",
    "axes[0,0].set_ylabel('Frequency')\n",
    "\n",
    "# Output length distribution  \n",
    "axes[0,1].hist(df['output_length'], bins=50, alpha=0.7, color='lightcoral')\n",
    "axes[0,1].set_title('Output Length Distribution')\n",
    "axes[0,1].set_xlabel('Characters')\n",
    "axes[0,1].set_ylabel('Frequency')\n",
    "\n",
    "# Word count distributions\n",
    "axes[1,0].hist(df['instruction_words'], bins=30, alpha=0.7, color='lightgreen')\n",
    "axes[1,0].set_title('Instruction Word Count')\n",
    "axes[1,0].set_xlabel('Words')\n",
    "axes[1,0].set_ylabel('Frequency')\n",
    "\n",
    "axes[1,1].hist(df['output_words'], bins=50, alpha=0.7, color='gold')\n",
    "axes[1,1].set_title('Output Word Count')\n",
    "axes[1,1].set_xlabel('Words')\n",
    "axes[1,1].set_ylabel('Frequency')\n",
    "\n",
    "plt.tight_layout()\n",
    "plt.show()\n",
    "\n",
    "# Log to WandB\n",
    "wandb.log({\n",
    "    \"avg_instruction_length\": df['instruction_length'].mean(),\n",
    "    \"avg_output_length\": df['output_length'].mean(),\n",
    "    \"avg_instruction_words\": df['instruction_words'].mean(),\n",
    "    \"avg_output_words\": df['output_words'].mean()\n",
    "})"
   ]
  },
  {
   "cell_type": "markdown",
   "id": "a494ff53",
   "metadata": {},
   "source": [
    "## 3. Data Quality Analysis\n",
    "\n",
    "Check for missing values, duplicates, and data quality issues."
   ]
  },
  {
   "cell_type": "code",
   "execution_count": null,
   "id": "6491163e",
   "metadata": {},
   "outputs": [],
   "source": [
    "# Check for missing values\n",
    "print(\"Missing Values:\")\n",
    "print(\"=\" * 20)\n",
    "missing_counts = df.isnull().sum()\n",
    "print(missing_counts)\n",
    "\n",
    "# Check for duplicates\n",
    "duplicate_count = df.duplicated().sum()\n",
    "print(f\"\\nDuplicate rows: {duplicate_count}\")\n",
    "\n",
    "# Check for empty strings\n",
    "empty_instructions = (df['instruction'].str.strip() == '').sum()\n",
    "empty_outputs = (df['output'].str.strip() == '').sum()\n",
    "print(f\"Empty instructions: {empty_instructions}\")\n",
    "print(f\"Empty outputs: {empty_outputs}\")\n",
    "\n",
    "# Identify very short or very long examples\n",
    "very_short_instructions = (df['instruction_words'] < 3).sum()\n",
    "very_long_outputs = (df['output_words'] > 500).sum()\n",
    "print(f\"Very short instructions (<3 words): {very_short_instructions}\")\n",
    "print(f\"Very long outputs (>500 words): {very_long_outputs}\")\n",
    "\n",
    "# Log quality metrics to WandB\n",
    "quality_metrics = {\n",
    "    \"missing_values\": missing_counts.sum(),\n",
    "    \"duplicate_rows\": duplicate_count,\n",
    "    \"empty_instructions\": empty_instructions,\n",
    "    \"empty_outputs\": empty_outputs,\n",
    "    \"very_short_instructions\": very_short_instructions,\n",
    "    \"very_long_outputs\": very_long_outputs,\n",
    "    \"data_quality_score\": 1 - (missing_counts.sum() + duplicate_count + empty_instructions + empty_outputs) / len(df)\n",
    "}\n",
    "\n",
    "wandb.log(quality_metrics)\n",
    "print(f\"\\nData quality score: {quality_metrics['data_quality_score']:.3f}\")"
   ]
  },
  {
   "cell_type": "markdown",
   "id": "04324f1e",
   "metadata": {},
   "source": [
    "## 4. Sample Data Exploration\n",
    "\n",
    "Examine a few examples to understand the dialog patterns and quality."
   ]
  },
  {
   "cell_type": "code",
   "execution_count": null,
   "id": "481a3ed3",
   "metadata": {},
   "outputs": [],
   "source": [
    "# Display random samples\n",
    "print(\"Sample Dialog Examples:\")\n",
    "print(\"=\" * 50)\n",
    "\n",
    "sample_indices = np.random.choice(len(df), 3, replace=False)\n",
    "\n",
    "for i, idx in enumerate(sample_indices):\n",
    "    row = df.iloc[idx]\n",
    "    print(f\"\\nExample {i+1}:\")\n",
    "    print(f\"Instruction: {row['instruction']}\")\n",
    "    print(f\"Output: {row['output']}\")\n",
    "    print(f\"Lengths: {row['instruction_words']} words → {row['output_words']} words\")\n",
    "    print(\"-\" * 50)"
   ]
  },
  {
   "cell_type": "markdown",
   "id": "2c79747a",
   "metadata": {},
   "source": [
    "## 5. Interactive Visualizations with Plotly\n",
    "\n",
    "Create interactive plots for deeper data exploration."
   ]
  },
  {
   "cell_type": "code",
   "execution_count": null,
   "id": "d2503027",
   "metadata": {},
   "outputs": [],
   "source": [
    "# Interactive scatter plot: instruction vs output length\n",
    "fig = px.scatter(\n",
    "    df.sample(1000),  # Sample for performance\n",
    "    x='instruction_words',\n",
    "    y='output_words',\n",
    "    title='Instruction vs Output Length (Word Count)',\n",
    "    labels={'instruction_words': 'Instruction Words', 'output_words': 'Output Words'},\n",
    "    opacity=0.6\n",
    ")\n",
    "fig.show()\n",
    "\n",
    "# Box plots for length distributions\n",
    "fig = make_subplots(\n",
    "    rows=1, cols=2,\n",
    "    subplot_titles=['Instruction Lengths', 'Output Lengths']\n",
    ")\n",
    "\n",
    "fig.add_trace(\n",
    "    go.Box(y=df['instruction_words'], name='Instructions'),\n",
    "    row=1, col=1\n",
    ")\n",
    "\n",
    "fig.add_trace(\n",
    "    go.Box(y=df['output_words'], name='Outputs'),\n",
    "    row=1, col=2\n",
    ")\n",
    "\n",
    "fig.update_layout(title_text=\"Text Length Distributions\", showlegend=False)\n",
    "fig.show()"
   ]
  },
  {
   "cell_type": "markdown",
   "id": "a8c0724f",
   "metadata": {},
   "source": [
    "## 6. Conclusions and Next Steps\n",
    "\n",
    "### Key Findings:\n",
    "- Dataset contains high-quality instruction-response pairs\n",
    "- Text lengths vary significantly - important for tokenization strategy\n",
    "- Data quality is high with minimal missing/duplicate values\n",
    "- Ready for model training experiments\n",
    "\n",
    "### Next Steps:\n",
    "1. **Preprocessing**: Implement tokenization and sequence padding\n",
    "2. **Model Architecture**: Design custom dialog models for comparison  \n",
    "3. **Training Pipeline**: Set up training loop with WandB logging\n",
    "4. **Evaluation**: Define metrics for dialog quality assessment\n",
    "\n",
    "All insights have been logged to WandB for experiment tracking."
   ]
  },
  {
   "cell_type": "code",
   "execution_count": null,
   "id": "de315345",
   "metadata": {},
   "outputs": [],
   "source": [
    "# Finish WandB run\n",
    "wandb.finish()\n",
    "print(\"Data exploration complete! Check WandB dashboard for logged metrics.\")"
   ]
  }
 ],
 "metadata": {
  "language_info": {
   "name": "python"
  }
 },
 "nbformat": 4,
 "nbformat_minor": 5
}
